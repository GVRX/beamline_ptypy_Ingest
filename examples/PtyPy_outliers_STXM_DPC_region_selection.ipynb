{
 "cells": [
  {
   "cell_type": "markdown",
   "id": "26d8ea4b",
   "metadata": {},
   "source": [
    "\n",
    "# PtyPy demo: Outliers, STXM & DPC, and Region Selection (synthetic data)\n",
    "\n",
    "This notebook generates a synthetic soft X-ray ptychography dataset and demonstrates:\n",
    "\n",
    "1. **Outlier detection** (e.g., saturated or anomalous frames) using robust metrics.  \n",
    "2. **STXM** map (scalar) and **DPC** maps (x/y), computed directly from the diffraction stack.  \n",
    "3. **Outlier map vs. STXM vs. DPC** side-by-side comparison.  \n",
    "4. **Region selection** in scan space (circle or rectangle) and export of a **subset HDF5** ready for PtyPy.\n",
    "\n",
    "> Notes  \n",
    "> • STXM here is approximated as **total intensity per position**.  \n",
    "> • DPC is computed as the **intensity-weighted center-of-mass (COM) shift** along x and y, per position.  \n",
    "> • Outlier detection combines robust z-scores for total intensity, COM magnitude, and saturated pixel ratio.  \n",
    "> • The exported subset follows a CXI-like structure: `/entry/data`, `/entry/pos`, plus optional metadata.\n"
   ]
  },
  {
   "cell_type": "code",
   "execution_count": 1,
   "id": "976548c8",
   "metadata": {},
   "outputs": [
    {
     "ename": "ModuleNotFoundError",
     "evalue": "No module named 'h5py'",
     "output_type": "error",
     "traceback": [
      "\u001b[0;31m---------------------------------------------------------------------------\u001b[0m",
      "\u001b[0;31mModuleNotFoundError\u001b[0m                       Traceback (most recent call last)",
      "\u001b[0;32m/var/folders/dz/c5rx_9dx5fvf7lq4jbcy3tlm0000gn/T/ipykernel_6751/3666297656.py\u001b[0m in \u001b[0;36m<module>\u001b[0;34m\u001b[0m\n\u001b[1;32m      3\u001b[0m \u001b[0;34m\u001b[0m\u001b[0m\n\u001b[1;32m      4\u001b[0m \u001b[0;32mimport\u001b[0m \u001b[0mnumpy\u001b[0m \u001b[0;32mas\u001b[0m \u001b[0mnp\u001b[0m\u001b[0;34m\u001b[0m\u001b[0;34m\u001b[0m\u001b[0m\n\u001b[0;32m----> 5\u001b[0;31m \u001b[0;32mimport\u001b[0m \u001b[0mh5py\u001b[0m\u001b[0;34m\u001b[0m\u001b[0;34m\u001b[0m\u001b[0m\n\u001b[0m\u001b[1;32m      6\u001b[0m \u001b[0;32mimport\u001b[0m \u001b[0mmatplotlib\u001b[0m\u001b[0;34m.\u001b[0m\u001b[0mpyplot\u001b[0m \u001b[0;32mas\u001b[0m \u001b[0mplt\u001b[0m\u001b[0;34m\u001b[0m\u001b[0;34m\u001b[0m\u001b[0m\n\u001b[1;32m      7\u001b[0m \u001b[0;32mfrom\u001b[0m \u001b[0mpathlib\u001b[0m \u001b[0;32mimport\u001b[0m \u001b[0mPath\u001b[0m\u001b[0;34m\u001b[0m\u001b[0;34m\u001b[0m\u001b[0m\n",
      "\u001b[0;31mModuleNotFoundError\u001b[0m: No module named 'h5py'"
     ]
    }
   ],
   "source": [
    "\n",
    "# If needed, install dependencies (uncomment in your environment)\n",
    "# %pip install numpy h5py matplotlib\n",
    "\n",
    "import numpy as np\n",
    "import h5py\n",
    "import matplotlib.pyplot as plt\n",
    "from pathlib import Path\n",
    "\n",
    "# Set a fixed RNG seed for reproducibility\n",
    "rng = np.random.default_rng(42)\n",
    "\n",
    "print(\"Libraries loaded.\")\n"
   ]
  },
  {
   "cell_type": "markdown",
   "id": "20c440c4",
   "metadata": {},
   "source": [
    "## Helper functions"
   ]
  },
  {
   "cell_type": "code",
   "execution_count": null,
   "id": "8df02cf0",
   "metadata": {},
   "outputs": [],
   "source": [
    "\n",
    "def center_of_mass(img):\n",
    "    arr = np.asarray(img, dtype=np.float64)\n",
    "    arr = np.clip(arr, 0, None)\n",
    "    tot = arr.sum()\n",
    "    if tot <= 0:\n",
    "        ny, nx = arr.shape\n",
    "        return (ny/2.0, nx/2.0)\n",
    "    ny, nx = arr.shape\n",
    "    y = np.arange(ny, dtype=np.float64)\n",
    "    x = np.arange(nx, dtype=np.float64)\n",
    "    cy = (arr.sum(axis=1) * y).sum() / tot\n",
    "    cx = (arr.sum(axis=0) * x).sum() / tot\n",
    "    return (cy, cx)\n",
    "\n",
    "def robust_zscores(x):\n",
    "    # Median & MAD-based z-score (scaled by 1.4826 for normal consistency)\n",
    "    x = np.asarray(x, dtype=np.float64)\n",
    "    med = np.median(x)\n",
    "    mad = np.median(np.abs(x - med)) + 1e-12\n",
    "    return 0.67448975 * (x - med) / (mad)  # z ~ (x - median) / (MAD/0.6745)\n",
    "\n",
    "def make_scan_positions(ny, nx, ystep=1e-6, xstep=1e-6, y0=0.0, x0=0.0):\n",
    "    ys = y0 + np.arange(ny) * ystep\n",
    "    xs = x0 + np.arange(nx) * xstep\n",
    "    Y, X = np.meshgrid(ys, xs, indexing='ij')\n",
    "    return np.stack([Y.ravel(), X.ravel()], axis=1)  # (N,2) with (y,x)\n",
    "\n",
    "def gaussian2d(ny, nx, cy, cx, sigma):\n",
    "    y = np.arange(ny)[:, None]\n",
    "    x = np.arange(nx)[None, :]\n",
    "    return np.exp(-((y - cy)**2 + (x - cx)**2) / (2*sigma**2))\n",
    "\n",
    "def generate_synthetic_stack(scan_ny=30, scan_nx=40, pix_ny=256, pix_nx=256,\n",
    "                             base_sigma=12.0, dpc_scale=0.5, noise_level=2.0,\n",
    "                             sat_level=60000, n_outliers=60):\n",
    "    \"\"\"\n",
    "    Create a synthetic stack (N, Y, X) with positions (N,2).\n",
    "    - Each frame is a Gaussian whose center is shifted linearly with scan position (DPC-like).\n",
    "    - Add Poisson-like noise and occasional saturated frames or dead frames as outliers.\n",
    "    \"\"\"\n",
    "    pos = make_scan_positions(scan_ny, scan_nx, ystep=1.0, xstep=1.0, y0=-1.0*scan_ny/2, x0=-1.0*scan_nx/2)\n",
    "    N = pos.shape[0]\n",
    "    stack = np.zeros((N, pix_ny, pix_nx), dtype=np.float32)\n",
    "\n",
    "    # Base center (in pixels)\n",
    "    base_cy, base_cx = pix_ny/2, pix_nx/2\n",
    "\n",
    "    # Linear COM shift proportional to scan (DPC-like)\n",
    "    # Normalize positions to [-1, 1]\n",
    "    py = (pos[:,0] - pos[:,0].mean()) / (np.abs(pos[:,0]).max() + 1e-12)\n",
    "    px = (pos[:,1] - pos[:,1].mean()) / (np.abs(pos[:,1]).max() + 1e-12)\n",
    "    shift_y = dpc_scale * py * (pix_ny/10)\n",
    "    shift_x = dpc_scale * px * (pix_nx/10)\n",
    "\n",
    "    for i in range(N):\n",
    "        cy = base_cy + shift_y[i]\n",
    "        cx = base_cx + shift_x[i]\n",
    "        img = 300.0 * gaussian2d(pix_ny, pix_nx, cy, cx, base_sigma)\n",
    "        # Add noise\n",
    "        img = img + noise_level * rng.normal(size=img.shape)\n",
    "        img = np.clip(img, 0, None)\n",
    "        stack[i] = img.astype(np.float32)\n",
    "\n",
    "    # Inject outliers: saturated or dead frames\n",
    "    idx = rng.choice(N, size=n_outliers, replace=False)\n",
    "    half = n_outliers // 2\n",
    "    sat_idx = idx[:half]\n",
    "    dead_idx = idx[half:]\n",
    "    for i in sat_idx:\n",
    "        # introduce a hot stripe\n",
    "        stack[i, :, rng.integers(0, pix_nx)] = sat_level\n",
    "    for i in dead_idx:\n",
    "        # zero frame\n",
    "        stack[i] *= 0.0\n",
    "\n",
    "    # Clip to 16-bit range\n",
    "    stack = np.clip(stack, 0, sat_level).astype(np.uint16)\n",
    "\n",
    "    return stack, pos, sat_level\n",
    "\n",
    "print(\"Helper funcs defined.\")\n"
   ]
  },
  {
   "cell_type": "markdown",
   "id": "d2f16e99",
   "metadata": {},
   "source": [
    "## Generate and save a synthetic dataset"
   ]
  },
  {
   "cell_type": "code",
   "execution_count": null,
   "id": "52ec6365",
   "metadata": {},
   "outputs": [],
   "source": [
    "\n",
    "out_dir = Path(\"./synthetic_demo\")\n",
    "out_dir.mkdir(exist_ok=True)\n",
    "\n",
    "stack, pos, sat_level = generate_synthetic_stack(scan_ny=30, scan_nx=40, pix_ny=256, pix_nx=256,\n",
    "                                                 base_sigma=12.0, dpc_scale=0.6, noise_level=2.5,\n",
    "                                                 sat_level=60000, n_outliers=80)\n",
    "\n",
    "h5_path = out_dir / \"synthetic_demo.h5\"\n",
    "with h5py.File(h5_path, \"w\") as h5:\n",
    "    e = h5.create_group(\"/entry\")\n",
    "    e.create_dataset(\"data\", data=stack, compression=\"gzip\", compression_opts=4)\n",
    "    e.create_dataset(\"pos\", data=pos)\n",
    "    e.create_dataset(\"pixel_m\", data=np.float64(5e-6))     # example\n",
    "    e.create_dataset(\"det_dist_m\", data=np.float64(1.2))   # example\n",
    "    e.create_dataset(\"energy_eV\", data=np.float64(700.0))  # example\n",
    "\n",
    "print(\"Saved:\", h5_path, \"shape:\", stack.shape)\n"
   ]
  },
  {
   "cell_type": "markdown",
   "id": "9ec087ef",
   "metadata": {},
   "source": [
    "## Compute per-frame metrics and outliers"
   ]
  },
  {
   "cell_type": "code",
   "execution_count": null,
   "id": "8c928b52",
   "metadata": {},
   "outputs": [],
   "source": [
    "\n",
    "# Metrics: total intensity, fraction saturated, COM shift magnitude\n",
    "N, ny, nx = stack.shape\n",
    "tot = stack.reshape(N, -1).sum(axis=1)\n",
    "frac_sat = (stack >= sat_level).reshape(N, -1).mean(axis=1)\n",
    "\n",
    "com = np.array([center_of_mass(img) for img in stack])\n",
    "# Reference center (middle of detector)\n",
    "ref_cy, ref_cx = ny/2, nx/2\n",
    "com_shift = np.sqrt((com[:,0]-ref_cy)**2 + (com[:,1]-ref_cx)**2)\n",
    "\n",
    "# Robust z-scores\n",
    "z_tot = robust_zscores(tot)\n",
    "z_sat = robust_zscores(frac_sat)\n",
    "z_com = robust_zscores(com_shift)\n",
    "\n",
    "# Combine a simple score; tweak weights if desired\n",
    "score = np.abs(z_tot) + np.abs(z_sat) + np.abs(z_com)\n",
    "thresh = 6.0  # heuristic\n",
    "is_outlier = score > thresh\n",
    "\n",
    "print(\"Outliers:\", int(is_outlier.sum()), \" / \", N)\n"
   ]
  },
  {
   "cell_type": "markdown",
   "id": "bc5ed3fe",
   "metadata": {},
   "source": [
    "## Build STXM and DPC maps"
   ]
  },
  {
   "cell_type": "code",
   "execution_count": null,
   "id": "184ff9bb",
   "metadata": {},
   "outputs": [],
   "source": [
    "\n",
    "# STXM: scalar per position = total intensity\n",
    "# DPCx, DPCy: COM offsets relative to center\n",
    "ys = np.unique(pos[:,0])\n",
    "xs = np.unique(pos[:,1])\n",
    "scan_ny = len(ys)\n",
    "scan_nx = len(xs)\n",
    "\n",
    "if scan_ny * scan_nx != N:\n",
    "    raise RuntimeError(\"Positions not on a perfect grid in this synthetic demo. Adjust generator.\")\n",
    "\n",
    "STXM = tot.reshape(scan_ny, scan_nx)\n",
    "DPCy = (com[:,0] - ref_cy).reshape(scan_ny, scan_nx)\n",
    "DPCx = (com[:,1] - ref_cx).reshape(scan_ny, scan_nx)\n",
    "OUT = is_outlier.reshape(scan_ny, scan_nx)\n",
    "\n",
    "print(\"Maps shaped:\", STXM.shape, DPCx.shape, DPCy.shape, OUT.shape)\n"
   ]
  },
  {
   "cell_type": "markdown",
   "id": "4631dba8",
   "metadata": {},
   "source": [
    "## Visualize: STXM vs DPCx/DPCy vs Outliers"
   ]
  },
  {
   "cell_type": "code",
   "execution_count": null,
   "id": "1a6212f3",
   "metadata": {},
   "outputs": [],
   "source": [
    "\n",
    "plt.figure(figsize=(6,5))\n",
    "plt.imshow(STXM)\n",
    "plt.title(\"STXM (sum intensity)\")\n",
    "plt.colorbar()\n",
    "plt.show()\n",
    "\n",
    "plt.figure(figsize=(6,5))\n",
    "plt.imshow(DPCx)\n",
    "plt.title(\"DPCx (COM x-offset)\")\n",
    "plt.colorbar()\n",
    "plt.show()\n",
    "\n",
    "plt.figure(figsize=(6,5))\n",
    "plt.imshow(DPCy)\n",
    "plt.title(\"DPCy (COM y-offset)\")\n",
    "plt.colorbar()\n",
    "plt.show()\n",
    "\n",
    "plt.figure(figsize=(6,5))\n",
    "plt.imshow(OUT.astype(float))\n",
    "plt.title(\"Outlier map (1=flagged)\")\n",
    "plt.colorbar()\n",
    "plt.show()\n"
   ]
  },
  {
   "cell_type": "markdown",
   "id": "c7a9d1d1",
   "metadata": {},
   "source": [
    "## Region selection in scan space (circle / rectangle)"
   ]
  },
  {
   "cell_type": "code",
   "execution_count": null,
   "id": "fad32c3b",
   "metadata": {},
   "outputs": [],
   "source": [
    "\n",
    "def select_by_position(pos, shape='none', center=None, radius=None, size=None):\n",
    "    pos = np.asarray(pos, dtype=float)\n",
    "    if shape == 'none' or pos is None:\n",
    "        return np.ones(len(pos), dtype=bool)\n",
    "    if center is None:\n",
    "        raise ValueError(\"center is required for shape != 'none'\")\n",
    "    cy, cx = center\n",
    "    dy = pos[:,0] - cy\n",
    "    dx = pos[:,1] - cx\n",
    "    if shape == 'circle':\n",
    "        if radius is None:\n",
    "            raise ValueError(\"radius required for circle\")\n",
    "        return (dy*dy + dx*dx) <= (radius*radius)\n",
    "    if shape == 'rect':\n",
    "        if size is None:\n",
    "            raise ValueError(\"size (dy,dx) required for rect\")\n",
    "        sy, sx = size\n",
    "        return (np.abs(dy) <= sy/2.0) & (np.abs(dx) <= sx/2.0)\n",
    "    raise ValueError(f\"Unknown shape {shape!r}\")\n",
    "\n",
    "# Example selection: circle in scan space (units of the synthetic positions)\n",
    "sel_circle = select_by_position(pos, shape='circle', center=(0.0, 0.0), radius=8.0)\n",
    "sel_rect   = select_by_position(pos, shape='rect',   center=(0.0, 0.0), size=(10.0, 16.0))\n",
    "\n",
    "print(\"Selected (circle):\", sel_circle.sum(), \"frames\")\n",
    "print(\"Selected (rect):  \", sel_rect.sum(), \"frames\")\n",
    "\n",
    "# Show masks on the scan grid\n",
    "plt.figure(figsize=(6,5))\n",
    "plt.imshow(sel_circle.reshape(scan_ny, scan_nx).astype(float))\n",
    "plt.title(\"Selection mask: circle\")\n",
    "plt.colorbar()\n",
    "plt.show()\n",
    "\n",
    "plt.figure(figsize=(6,5))\n",
    "plt.imshow(sel_rect.reshape(scan_ny, scan_nx).astype(float))\n",
    "plt.title(\"Selection mask: rectangle\")\n",
    "plt.colorbar()\n",
    "plt.show()\n"
   ]
  },
  {
   "cell_type": "markdown",
   "id": "6f983aa6",
   "metadata": {},
   "source": [
    "## Export a subset HDF5 (ready for PtyPy)"
   ]
  },
  {
   "cell_type": "code",
   "execution_count": null,
   "id": "e511ebef",
   "metadata": {},
   "outputs": [],
   "source": [
    "\n",
    "subset_mask = sel_circle  # choose circle selection for this demo\n",
    "clean_mask = (~is_outlier) & subset_mask  # optional: drop outliers within the selection\n",
    "\n",
    "sub_path = out_dir / \"synthetic_subset.h5\"\n",
    "with h5py.File(sub_path, \"w\") as h5:\n",
    "    e = h5.create_group(\"/entry\")\n",
    "    e.create_dataset(\"data\", data=stack[clean_mask].astype(np.float32), compression=\"gzip\", compression_opts=4)\n",
    "    e.create_dataset(\"pos\", data=pos[clean_mask])\n",
    "    e.create_dataset(\"pixel_m\", data=np.float64(5e-6))\n",
    "    e.create_dataset(\"det_dist_m\", data=np.float64(1.2))\n",
    "    e.create_dataset(\"energy_eV\", data=np.float64(700.0))\n",
    "\n",
    "print(\"Subset saved:\", sub_path, \"frames:\", int(clean_mask.sum()))\n"
   ]
  },
  {
   "cell_type": "markdown",
   "id": "b2b7b2ec",
   "metadata": {},
   "source": [
    "\n",
    "## (Optional) Running PtyPy on the subset\n",
    "\n",
    "If you have **PtyPy** and an HDF5 loader recipe ready (e.g., the `ptypy_recipe_hdf5.py` from this repo), you can run:\n",
    "\n",
    "```bash\n",
    "python pytpy_ingest/examples/ptypy_recipe_hdf5.py   --data ./synthetic_demo/synthetic_subset.h5   --engine DM   --iters 200\n",
    "```\n"
   ]
  }
 ],
 "metadata": {
  "kernelspec": {
   "display_name": "p39",
   "language": "python",
   "name": "python3"
  },
  "language_info": {
   "codemirror_mode": {
    "name": "ipython",
    "version": 3
   },
   "file_extension": ".py",
   "mimetype": "text/x-python",
   "name": "python",
   "nbconvert_exporter": "python",
   "pygments_lexer": "ipython3",
   "version": "3.9.16"
  }
 },
 "nbformat": 4,
 "nbformat_minor": 5
}
