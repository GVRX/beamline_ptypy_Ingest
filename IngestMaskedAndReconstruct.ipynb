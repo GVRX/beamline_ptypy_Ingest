{
 "cells": [
  {
   "cell_type": "markdown",
   "id": "422e5c78",
   "metadata": {},
   "source": [
    "# PtyPy QC & Ingestion — **Scan-Space Masking + Reconstruction Demo**\n",
    "\n",
    "This extends the previous demo with **scan-space masking** (rectangle or circle in stage coordinates) and shows two downstream options:\n",
    "\n",
    "1. **Subset export**: re‑ingest/export only frames inside the mask into a new standardized HDF5.\n",
    "2. **PtyPy mask JSON**: emit a JSON file of accepted frame indices for PtyPy's ingest layer to exclude frames outside the mask.\n",
    "\n",
    "It also composes a **PtyPy reconstruction** command for either the subset HDF5 **or** the JSON‑masked original HDF5, and can run it directly from the notebook.\n"
   ]
  },
  {
   "cell_type": "markdown",
   "id": "5a18c288",
   "metadata": {},
   "source": [
    "## Prereqs & paths\n",
    "\n",
    "- Local clone of `beamline_ptypy_Ingest` (or set `PTYPY_INGEST_REPO`).\n",
    "- CLIs importable (e.g., `python -m beamline_ptypy_ingest.ingest_hdf5 --help`).\n",
    "- An evaluator or existing QC outputs are **not required** for this section; we recompute STXM here for the overlay.\n"
   ]
  },
  {
   "cell_type": "code",
   "execution_count": 1,
   "id": "331c1184",
   "metadata": {},
   "outputs": [
    {
     "name": "stdout",
     "output_type": "stream",
     "text": [
      "REPO_ROOT = /Users/gvr/code/hermes_ptypy_ingest/beamline_ptypy_ingest\n",
      "STD_HDF5  = /Users/gvr/code/hermes_ptypy_ingest/beamline_ptypy_ingest/qc_outputs_demo/standardized_demo.h5\n",
      "OUT_DIR   = /Users/gvr/code/hermes_ptypy_ingest/beamline_ptypy_ingest/qc_outputs_demo\n"
     ]
    }
   ],
   "source": [
    "# ---- Config ----\n",
    "from pathlib import Path\n",
    "import os, sys, json, subprocess, shlex\n",
    "import numpy as np\n",
    "import h5py\n",
    "import matplotlib.pyplot as plt\n",
    "from matplotlib.patches import Rectangle, Circle\n",
    "\n",
    "# Repo location and imports\n",
    "REPO_ROOT = Path(os.environ.get(\"PTYPY_INGEST_REPO\", \".\")).resolve()\n",
    "if (REPO_ROOT / \"beamline_ptypy_ingest\").exists():\n",
    "    sys.path.insert(0, str(REPO_ROOT))\n",
    "\n",
    "# Standardized input HDF5 from prior ingest step\n",
    "STD_HDF5 = Path(os.environ.get(\"STD_HDF5\", REPO_ROOT / \"qc_outputs_demo\" / \"standardized_demo.h5\")).resolve()\n",
    "\n",
    "# Output dirs/files\n",
    "OUT_DIR   = Path(os.environ.get(\"OUT_DIR\", REPO_ROOT / \"qc_outputs_demo\")).resolve()\n",
    "MASK_DIR  = OUT_DIR / \"masking\"\n",
    "MASK_DIR.mkdir(parents=True, exist_ok=True)\n",
    "MASK_MODE = \"rect\" # \"circ\" or \"rect\"\n",
    "\n",
    "# Subset re-ingest output\n",
    "SUBSET_HDF5 = MASK_DIR / \"standardized_subset.h5\"\n",
    "\n",
    "# PtyPy indices JSON (accept list) for masking during reconstruction\n",
    "PTYPY_JSON  = MASK_DIR / \"ptypy_accept_indices.json\"\n",
    "\n",
    "print(\"REPO_ROOT =\", REPO_ROOT)\n",
    "print(\"STD_HDF5  =\", STD_HDF5)\n",
    "print(\"OUT_DIR   =\", OUT_DIR)"
   ]
  },
  {
   "cell_type": "code",
   "execution_count": 2,
   "id": "896bf4ee",
   "metadata": {},
   "outputs": [
    {
     "name": "stdout",
     "output_type": "stream",
     "text": [
      "Frames: 256\n",
      "pos_x range: (np.float64(-5e-05), np.float64(5e-05))\n",
      "pos_y range: (np.float64(-5e-05), np.float64(5e-05))\n"
     ]
    }
   ],
   "source": [
    "# ---- Load standardized data, compute STXM & positions ----\n",
    "with h5py.File(STD_HDF5, \"r\") as h5:\n",
    "    I = h5[\"/entry/data\"][()]              # (N, ny, nx)\n",
    "    # Accept either split pos_x/pos_y or combined (N,2)\n",
    "    if \"/entry/pos_x\" in h5 and \"/entry/pos_y\" in h5:\n",
    "        pos_x = h5[\"/entry/pos_x\"][()].astype(float).ravel()\n",
    "        pos_y = h5[\"/entry/pos_y\"][()].astype(float).ravel()\n",
    "    else:\n",
    "        pos = h5[\"/entry/pos\"][()]         # (N,2) [x,y]\n",
    "        pos_x = pos[:,0].astype(float)\n",
    "        pos_y = pos[:,1].astype(float)\n",
    "\n",
    "N = I.shape[0]\n",
    "stxm_vals = np.log1p(I.sum(axis=(1,2))).astype(float)  # log sum(I)\n",
    "\n",
    "# grid for overlay\n",
    "from ingest.evaluate import grid_average\n",
    "stxm_img, xedges, yedges, counts = grid_average(stxm_vals, pos_x, pos_y, grid_shape=None)\n",
    "\n",
    "print(\"Frames:\", N)\n",
    "print(\"pos_x range:\", (pos_x.min(), pos_x.max()))\n",
    "print(\"pos_y range:\", (pos_y.min(), pos_y.max()))"
   ]
  },
  {
   "cell_type": "markdown",
   "id": "8ad5a07b",
   "metadata": {},
   "source": [
    "## Define a scan-space mask\n",
    "\n",
    "Two modes are supported:\n",
    "\n",
    "- **Rectangle**: `--rect CX CY W H` (center and size in stage units, same units as `pos_x/pos_y` in the standardized file).\n",
    "- **Circle**:    `--circ CX CY R`.\n",
    "\n",
    "Edit the parameters below to hardcode a region. The overlay is drawn on the STXM image for verification, and the selected frame indices are saved to JSON for PtyPy masking.\n"
   ]
  },
  {
   "cell_type": "code",
   "execution_count": 3,
   "id": "e59694bf",
   "metadata": {},
   "outputs": [
    {
     "name": "stdout",
     "output_type": "stream",
     "text": [
      "Mask mode: rect\n",
      "Centre (m): 0.0 0.0\n",
      "Rect W,H (m): 6e-05 6e-05   Circle R (m): 3e-05\n"
     ]
    }
   ],
   "source": [
    "# ---- Mask parameters (edit these) ----\n",
    "MASK_MODE = \"rect\"         # \"rect\" or \"circ\"\n",
    "CX = float((pos_x.min() + pos_x.max())/2)   # center x  (meters)\n",
    "CY = float((pos_y.min() + pos_y.max())/2)   # center y  (meters)\n",
    "\n",
    "# Rectangle: width/height in meters; Circle: radius in meters\n",
    "W  = (pos_x.max() - pos_x.min()) * 0.6      # rectangle width\n",
    "H  = (pos_y.max() - pos_y.min()) * 0.6      # rectangle height\n",
    "R  = min(W, H)/2                             # circle radius\n",
    "\n",
    "print(\"Mask mode:\", MASK_MODE)\n",
    "print(\"Centre (m):\", CX, CY)\n",
    "print(\"Rect W,H (m):\", W, H, \"  Circle R (m):\", R)"
   ]
  },
  {
   "cell_type": "code",
   "execution_count": 4,
   "id": "92899a16",
   "metadata": {},
   "outputs": [
    {
     "name": "stdout",
     "output_type": "stream",
     "text": [
      "Selected 81 / 256 frames\n",
      "Wrote: /Users/gvr/code/hermes_ptypy_ingest/beamline_ptypy_ingest/qc_outputs_demo/masking/ptypy_accept_indices.json\n"
     ]
    }
   ],
   "source": [
    "# ---- Build boolean selection for each frame ----\n",
    "if MASK_MODE == \"rect\":\n",
    "    sel = (np.abs(pos_x - CX) <= W/2) & (np.abs(pos_y - CY) <= H/2)\n",
    "    overlay_patch = Rectangle((CX - W/2, CY - H/2), W, H, fill=False, lw=1.5)\n",
    "elif MASK_MODE == \"circ\":\n",
    "    sel = ((pos_x - CX)**2 + (pos_y - CY)**2) <= (R**2)\n",
    "    overlay_patch = Circle((CX, CY), R, fill=False, lw=1.5)\n",
    "else:\n",
    "    raise ValueError(\"MASK_MODE must be 'rect' or 'circ'\")\n",
    "\n",
    "accept_idx = np.nonzero(sel)[0].astype(int)\n",
    "reject_idx = np.setdiff1d(np.arange(N), accept_idx)\n",
    "\n",
    "print(f\"Selected {accept_idx.size} / {N} frames\")\n",
    "\n",
    "# Save a PtyPy-style accept list JSON\n",
    "with open(PTYPY_JSON, \"w\") as f:\n",
    "    json.dump({\"accept_indices\": accept_idx.tolist()}, f, indent=2)\n",
    "print(\"Wrote:\", PTYPY_JSON)"
   ]
  },
  {
   "cell_type": "code",
   "execution_count": 5,
   "id": "030cfdec",
   "metadata": {},
   "outputs": [
    {
     "data": {
      "image/png": "[encoded data removed]",
      "text/plain": [
       "<Figure size 500x500 with 2 Axes>"
      ]
     },
     "metadata": {},
     "output_type": "display_data"
    }
   ],
   "source": [
    "# ---- Visualize mask overlay on STXM ----\n",
    "fig, ax = plt.subplots(figsize=(5,5))\n",
    "im = ax.imshow(stxm_img, origin='lower',\n",
    "               extent=(xedges[0], xedges[-1], yedges[0], yedges[-1]))\n",
    "cb = plt.colorbar(im, ax=ax, fraction=0.046, pad=0.04)\n",
    "cb.set_label(\"STXM (log ∑I)\")\n",
    "\n",
    "# draw patch in stage coordinates\n",
    "ax.add_patch(overlay_patch)\n",
    "ax.set_title(\"STXM with scan-space mask overlay\")\n",
    "ax.set_xlabel(\"x (m)\"); ax.set_ylabel(\"y (m)\")\n",
    "plt.show()"
   ]
  },
  {
   "cell_type": "markdown",
   "id": "dd9527b4",
   "metadata": {},
   "source": [
    "## Option A — Re‑ingest/export a subset HDF5\n",
    "\n",
    "Use the region flags in your ingest CLI to write a **subset** standardized file containing only frames inside the region.\n"
   ]
  },
  {
   "cell_type": "code",
   "execution_count": 6,
   "id": "ff1375cb",
   "metadata": {},
   "outputs": [
    {
     "name": "stdout",
     "output_type": "stream",
     "text": [
      "Subset export command:\n",
      "/Users/gvr/miniconda3/envs/ptypy_full/bin/python -m beamline_ptypy_ingest.ingest_hdf5 --input /Users/gvr/code/hermes_ptypy_ingest/beamline_ptypy_ingest/qc_outputs_demo/standardized_demo.h5 --output /Users/gvr/code/hermes_ptypy_ingest/beamline_ptypy_ingest/qc_outputs_demo/masking/standardized_subset.h5 --frames-per-pos 1 --grouping none --rect 0.0 0.0 6e-05 6e-05\n"
     ]
    }
   ],
   "source": [
    "# ---- Re-ingest with region filter (subset export) ----\n",
    "# Adjust CLI module/flags to match your implementation if they differ.\n",
    "cmd = [sys.executable, \"-m\", \"beamline_ptypy_ingest.ingest_hdf5\",\n",
    "       \"--input\", str(STD_HDF5),\n",
    "       \"--output\", str(SUBSET_HDF5),\n",
    "       \"--frames-per-pos\", \"1\",\n",
    "       \"--grouping\", \"none\"]\n",
    "\n",
    "if MASK_MODE == \"rect\":\n",
    "    cmd += [\"--rect\", str(CX), str(CY), str(W), str(H)]\n",
    "else:\n",
    "    cmd += [\"--circ\", str(CX), str(CY), str(R)]\n",
    "\n",
    "print(\"Subset export command:\")\n",
    "print(\" \".join(shlex.quote(c) for c in cmd))\n",
    "\n",
    "RUN_SUBSET_EXPORT = False  # set True to execute\n",
    "if RUN_SUBSET_EXPORT:\n",
    "    subprocess.run(cmd, check=True)\n",
    "    print(\"Wrote subset:\", SUBSET_HDF5)"
   ]
  },
  {
   "cell_type": "markdown",
   "id": "b2d92724",
   "metadata": {},
   "source": [
    "## Option B — JSON mask for PtyPy ingest\n",
    "\n",
    "Instead of writing a smaller HDF5, pass the **accept indices** JSON to your PtyPy ingest layer so it **excludes** frames outside the region at load-time.\n"
   ]
  },
  {
   "cell_type": "code",
   "execution_count": 7,
   "id": "52f3f591",
   "metadata": {},
   "outputs": [
    {
     "name": "stdout",
     "output_type": "stream",
     "text": [
      "First 20 accept indices: [ 68  69  70  71  72  73  74  75  76  84  85  86  87  88  89  90  91  92\n",
      " 100 101]\n"
     ]
    }
   ],
   "source": [
    "# Preview the first few accepted indices for sanity\n",
    "print(\"First 20 accept indices:\", accept_idx[:20])"
   ]
  },
  {
   "cell_type": "markdown",
   "id": "fcfdb110",
   "metadata": {},
   "source": [
    "## Launch a PtyPy reconstruction\n",
    "\n",
    "Choose whether to reconstruct the **subset file** (Option A) or the **full file with JSON masking** (Option B).\n",
    "\n",
    "> The example below assumes you have a runnable recipe script, e.g. `examples/ptypy_recipe_hdf5.py`, that accepts `--data` and optionally a `--ptypy-indices` JSON. Adjust the script path/flags if your repo differs.\n"
   ]
  },
  {
   "cell_type": "code",
   "execution_count": null,
   "id": "5cd5c5f0",
   "metadata": {},
   "outputs": [
    {
     "name": "stdout",
     "output_type": "stream",
     "text": [
      "Reconstruction command:\n",
      "/Users/gvr/miniconda3/envs/ptypy_full/bin/python /Users/gvr/code/hermes_ptypy_ingest/beamline_ptypy_ingest/examples/ptypy_recipe_hdf5_accept.py --data /Users/gvr/code/hermes_ptypy_ingest/beamline_ptypy_ingest/qc_outputs_demo/standardized_demo.h5 --engine DM --iters 200 --ptypy-indices /Users/gvr/code/hermes_ptypy_ingest/beamline_ptypy_ingest/qc_outputs_demo/masking/ptypy_accept_indices.json\n"
     ]
    }
   ],
   "source": [
    "# ---- Compose a PtyPy reconstruction command ----\n",
    "RECIPE = REPO_ROOT / \"examples\" / \"ptypy_recipe_hdf5_accept.py\"  # adjust if needed\n",
    "ENGINE = \"DM\"\n",
    "ITERS  = 200\n",
    "\n",
    "USE_SUBSET = False   # True -> use subset HDF5 (Option A); False -> use JSON mask on full HDF5 (Option B)\n",
    "\n",
    "if USE_SUBSET:\n",
    "    data_path = SUBSET_HDF5\n",
    "    extra = []\n",
    "else:\n",
    "    data_path = STD_HDF5\n",
    "    # If your recipe takes a JSON accept list, provide the flag here (edit name if needed)\n",
    "    extra = [\"--ptypy-indices\", str(PTYPY_JSON)]\n",
    "\n",
    "recon_cmd = [sys.executable, str(RECIPE),\n",
    "             \"--data\", str(data_path),\n",
    "             \"--engine\", ENGINE,\n",
    "             \"--iters\", str(ITERS)] + extra\n",
    "\n",
    "print(\"Reconstruction command:\")\n",
    "print(\" \".join(shlex.quote(c) for c in recon_cmd))\n",
    "\n",
    "RUN_RECON = True  # set True to execute (requires your PtyPy env)\n",
    "if RUN_RECON:\n",
    "    subprocess.run(recon_cmd, check=True)"
   ]
  }
 ],
 "metadata": {
  "kernelspec": {
   "display_name": "ptypy_full",
   "language": "python",
   "name": "python3"
  },
  "language_info": {
   "codemirror_mode": {
    "name": "ipython",
    "version": 3
   },
   "file_extension": ".py",
   "mimetype": "text/x-python",
   "name": "python",
   "nbconvert_exporter": "python",
   "pygments_lexer": "ipython3",
   "version": "3.13.7"
  }
 },
 "nbformat": 4,
 "nbformat_minor": 5
}
