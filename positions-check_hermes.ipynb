{
 "cells": [
  {
   "cell_type": "code",
   "execution_count": null,
   "id": "e652071c",
   "metadata": {},
   "outputs": [],
   "source": [
    "# Check sample positions from Hermes HDF5 file\n",
    "\n",
    "import numpy as np\n",
    "import h5py as h5py \n",
    "import argparse # only for argument parsing \n",
    "\n",
    "POS_X_PATH_C=\"/entry1/camera/real_sample_x\"\n",
    "POS_Y_PATH_C=\"/entry1/camera/real_sample_y\"\n",
    "\n",
    "\n",
    "def _open_dataset_maybe_group(f: h5py.File, path: str) -> np.ndarray:\n",
    "    \"\"\"\n",
    "    Return a numpy array from either a dataset at `path` or, if `path` is a group,\n",
    "    a child dataset named 'data'. Raises KeyError if not found.\n",
    "    \"\"\"\n",
    "    obj = f[path]\n",
    "    if isinstance(obj, h5py.Dataset):\n",
    "        return obj[()]\n",
    "    if isinstance(obj, h5py.Group):\n",
    "        # common NeXus convention uses a dataset called 'data' inside the group\n",
    "        for candidate in (\"data\", \"value\", \"values\"):\n",
    "            if candidate in obj and isinstance(obj[candidate], h5py.Dataset):\n",
    "                return obj[candidate][()]\n",
    "    raise KeyError(f\"No dataset found at or under {path!r} (looked for 'data').\")\n",
    "\n",
    "\n",
    "with h5py.File('/Users/gvr/code/hermes_ptypy_ingest/beamline_ptypy_ingest/data/Image_20250924_025/Image_20250924_010.hdf5', \"r\") as fC:\n",
    "    x = _open_dataset_maybe_group(fC, POS_X_PATH_C)\n",
    "    y = _open_dataset_maybe_group(fC, POS_Y_PATH_C)\n",
    "if x.shape != y.shape:\n",
    "    raise ValueError(f\"Position arrays shapes differ: {x.shape} vs {y.shape}\")\n",
    "# Flatten into a list of (x,y) in requested scan order\n",
    "order = \"row\"  # \"row\" or \"col\"\n",
    "if order not in {\"row\", \"col\"}:\n",
    "    raise ValueError(\"--order must be 'row' or 'col'\")\n",
    "if order == \"row\":\n",
    "    xf = np.ravel(x, order=\"C\")\n",
    "    yf = np.ravel(y, order=\"C\")\n",
    "else:\n",
    "    xf = np.ravel(x, order=\"F\")\n",
    "    yf = np.ravel(y, order=\"F\")\n",
    "pos = np.stack([xf, yf], axis=1).astype(np.float64)\n",
    "\n",
    "\n",
    "import matplotlib.pyplot as plt\n",
    "plt.scatter(xf, yf, s=5); \n",
    "plt.gca().set_aspect('equal')\n",
    "plt.title(\"Real Sample  positions (x,y)\"); plt.xlabel(\"x (m)\"); plt.ylabel(\"y (m)\")\n",
    "plt.show()  # show scan positions\n"
   ]
  }
 ],
 "metadata": {
  "language_info": {
   "name": "python"
  }
 },
 "nbformat": 4,
 "nbformat_minor": 5
}
